{
 "cells": [
  {
   "cell_type": "markdown",
   "metadata": {},
   "source": [
    "# epann\n",
    "\n",
    "Evolutionary Plastic Artificial Neural Networks\n"
   ]
  },
  {
   "cell_type": "markdown",
   "metadata": {},
   "source": [
    "# Introduction\n",
    "\n",
    "### Welcome to epann\n",
    "\n",
    "**epann** is a neuroevolution framework for designing artificial life experiments using variants of the HyperNEAT algorithm. \n",
    "\n",
    "The package is itself a practice in package management and maintenance specific to the research goals of the author in the fields of machine learning, artificial life, neuroevolution, and theoretical neuroscience. The author recognizes the existence of other [libraries](http://eplex.cs.ucf.edu/neat_software/) that already implement many features of this research pipeline, however maintains the (misguided?) perspective that proper understanding can come from writing it yourself. \n",
    "\n",
    "You can run any of these notebook tutorials on your local machine by first cloning the **epann** repository. "
   ]
  },
  {
   "cell_type": "markdown",
   "metadata": {
    "collapsed": true
   },
   "source": [
    "### Overview\n",
    "\n",
    "**epann** provides a general purpose environment for generating Compositional Pattern Producing Network (CPPN) genomes that map to agent phenotype artificial neural networks that can be trained and optimized on benchmark machine learning tasks. \n",
    "\n",
    "Most of the algorithms used in **epann** come from the works of Kenneth O. Stanley (UCF), Bruno Olshausen (Redwood Institute), as well as my colleagues at the Machine Perception & Cognitive Robotics Laboratory (FAU), and they will be cited as such when appropriate.\n"
   ]
  },
  {
   "cell_type": "markdown",
   "metadata": {},
   "source": [
    "### Outline\n",
    "\n",
    "#### 1. Introduction\n",
    "#### 2. Simulating Organisms that Learn\n",
    "#### 3. Neuroevolution: Genetic Representations of Artificial Neural Networks\n",
    "#### 4. Compositional Pattern Producing Networks\n",
    "#### 5. The HyperNEAT Algorithm\n",
    "#### 6. Objective Search: Evolving Plastic ANNs with an Explicit Objective\n",
    "#### 7. Non-Objective Search: Evolving Plastic ANNs without an Explicit Object\n"
   ]
  },
  {
   "cell_type": "code",
   "execution_count": null,
   "metadata": {
    "collapsed": true
   },
   "outputs": [],
   "source": [
    ""
   ]
  },
  {
   "cell_type": "markdown",
   "metadata": {},
   "source": [
    "**Move on to [Part 2: Simulating Agents that Learn](02agentsenvs.ipynb)**"
   ]
  },
  {
   "cell_type": "code",
   "execution_count": null,
   "metadata": {
    "collapsed": true
   },
   "outputs": [],
   "source": [
    ""
   ]
  }
 ],
 "metadata": {
  "kernelspec": {
   "display_name": "Python 2",
   "language": "python",
   "name": "python2"
  },
  "language_info": {
   "codemirror_mode": {
    "name": "ipython",
    "version": 2.0
   },
   "file_extension": ".py",
   "mimetype": "text/x-python",
   "name": "python",
   "nbconvert_exporter": "python",
   "pygments_lexer": "ipython2",
   "version": "2.7.12"
  }
 },
 "nbformat": 4,
 "nbformat_minor": 0
}