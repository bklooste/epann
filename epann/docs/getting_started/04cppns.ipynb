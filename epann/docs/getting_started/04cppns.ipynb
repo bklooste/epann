{
 "cells": [
  {
   "cell_type": "markdown",
   "metadata": {},
   "source": [
    "# epann\n",
    "\n",
    "Evolutionary Plastic Artificial Neural Networks\n",
    "\n",
    "---\n",
    "\n",
    "**Back to [Part 3: Neuroevolution](03neuroevolution.ipynb)**\n",
    "\n",
    "---"
   ]
  },
  {
   "cell_type": "markdown",
   "metadata": {},
   "source": [
    "# Compositional Pattern Producing Networks"
   ]
  },
  {
   "cell_type": "markdown",
   "metadata": {
    "collapsed": true
   },
   "source": [
    "\n",
    "**CPPN**s are a kind of indirect encoding that represents an agent's neural network as another, smaller neural network. Since neural networks act as function-approximators, an agent's genome is in effect also a function. This neural network approximation of a function will be used to construct an agent's brain, which is also a neural network. \n",
    "\n",
    "\n",
    "By representing an agent this way, it is not necessary to encode every connection in the final agent phenotype when performing evolutionary computation to find good solutions.\n"
   ]
  },
  {
   "cell_type": "markdown",
   "metadata": {
    "collapsed": true
   },
   "source": [
    "### Example\n",
    "\n",
    "Let's start with a simple example using **epann**. Once we construct a population using **epann**, we will be able to explore a few things:\n",
    "\n",
    "1. How CPPN genomes are similar to the direct encodings of the original NEAT algorithm.\n",
    "2. How a CPPN genome is related to the final agent neural network phenotype.\n",
    "3. How a population of CPPNs reproduce, mutate, and ulimately evolve. \n",
    "\n",
    "To begin with we initialize a population of agents that each contain a phenotype (an ANN that will directly interact with our task) and a genotype (the CPPN). \n"
   ]
  },
  {
   "cell_type": "code",
   "execution_count": 19,
   "metadata": {},
   "outputs": [
    {
     "name": "stdout",
     "output_type": "stream",
     "text": [
      "Agent 0 - <epann.core.population.genome.cppn.CPPN instance at 0x7f4d58219950>\nAgent 1 - <epann.core.population.genome.cppn.CPPN instance at 0x7f4d58219ab8>\nAgent 2 - <epann.core.population.genome.cppn.CPPN instance at 0x7f4d58219bd8>\nAgent 3 - <epann.core.population.genome.cppn.CPPN instance at 0x7f4d58219cf8>\nAgent 4 - <epann.core.population.genome.cppn.CPPN instance at 0x7f4d58219e18>\n"
     ]
    }
   ],
   "source": [
    "from epann.core.population.population import Population\n",
    "\n",
    "num_agents = 5\n",
    "\n",
    "pop = Population(num_agents)\n",
    "\n",
    "for agent in pop.genomes.keys():\n",
    "    print 'Agent', agent, '-', pop.genomes[agent]"
   ]
  },
  {
   "cell_type": "markdown",
   "metadata": {
    "collapsed": true
   },
   "source": [
    "\n",
    "\n",
    "As you can see, each agent is defined as an instance of a CPPN object. Within this object are attributes that define its genotype, which can then be used to construct a phenotype for the agent.\n",
    "\n",
    "If we set aside the first agent (**Agent 0**), we will see something familiar. Similar to the original NEAT direct encoding, CPPNs are neural networks that can be described by node and connection genome lists. We can take a look at the CPPN visually first in **Figure 4.1** before we explore how these genomes are related to network structure in the same way we saw in **Part 3**.\n",
    "\n",
    "##### Figure 4.1 - An Initialized CPPN genotype\n",
    "\n",
    "![Figure 4.1](figures/init_cppn.png)\n",
    "\n",
    "Since an agent's neural network (**Figure 3.1**) and its CPPN (**Figure 4.1**) are both networks, we have colored them differently to avoid confusion. The brain of an agent will always have nodes that are colored red or orange, while CPPNs will have blue nodes. CPPNs will have identification numbers on their nodes and connections, while an agent's brain no longer will. \n"
   ]
  },
  {
   "cell_type": "markdown",
   "metadata": {},
   "source": [
    "#### The Node Genome\n",
    "\n"
   ]
  },
  {
   "cell_type": "code",
   "execution_count": 20,
   "metadata": {},
   "outputs": [
    {
     "name": "stdout",
     "output_type": "stream",
     "text": [
      "{0: {'activation': 'linear', 'type': 'input'}, 1: {'activation': 'linear', 'type': 'input'}, 2: {'activation': 'linear', 'type': 'input'}, 3: {'activation': 'linear', 'type': 'input'}, 4: {'activation': 'linear', 'type': 'input'}, 5: {'activation': 'abs_value', 'type': 'output'}}\n"
     ]
    }
   ],
   "source": [
    "agent_index = 0\n",
    "current_agent = pop.genomes[agent_index]\n",
    "\n",
    "print current_agent.nodes"
   ]
  },
  {
   "cell_type": "markdown",
   "metadata": {},
   "source": [
    "Just like we saw before, a CPPN has a node genome that describes the characteristics of its individual nodes. Each key is a node in the genome, and each nested dictionary is that particular node's attributes. Each of the nodes have an identification number specific to its node genome (written in white in **Figure 4.1**).\n",
    "\n",
    "For example, **Node 5** is an output node ('type') with a unique activation function ('activation').\n",
    "\n",
    "(**Note:** it might seem odd that an output node does not have a more traditional activation function, such as the sigmoid. Neurons in CPPNs can have a variety of activation functions that are selected for their ability to introduce repetition or symmetry, which gives rise to the network's pattern producing capabilities. More on this distinction later.)\n",
    "\n",
    "For now, we can at least observe the possible activation functions output nodes can be assigned to:"
   ]
  },
  {
   "cell_type": "code",
   "execution_count": 21,
   "metadata": {},
   "outputs": [
    {
     "name": "stdout",
     "output_type": "stream",
     "text": [
      "['x_cubed', 'linear', 'sigmoid', 'ramp', 'gauss', 'abs_value', 'tan_h', 'step', 'ReLU', 'sine']\n"
     ]
    }
   ],
   "source": [
    "from epann.core.tools.utils.activations import Activation\n",
    "\n",
    "acts = Activation()\n",
    "print acts.tags"
   ]
  },
  {
   "cell_type": "markdown",
   "metadata": {},
   "source": [
    "\n",
    "\n",
    "Nodes within the CPPN (except for the input nodes) can have any of these activation functions. For now, let's set the activation function to something simple."
   ]
  },
  {
   "cell_type": "code",
   "execution_count": 22,
   "metadata": {},
   "outputs": [],
   "source": [
    "# Save the old randomly generated activation function\n",
    "old_output_act = current_agent.nodes[5]['activation']\n",
    "\n",
    "# Re-assign the ouput node activation to something simple\n",
    "current_agent.nodes[5]['activation'] = 'ramp'"
   ]
  },
  {
   "cell_type": "markdown",
   "metadata": {},
   "source": [
    "We start a generation off with 5 agents that have the same number of input and output nodes. As a result, every agent will have identical node genomes when they are initialized, save the specific activation functions assigned to the output nodes. "
   ]
  },
  {
   "cell_type": "code",
   "execution_count": 23,
   "metadata": {},
   "outputs": [
    {
     "name": "stdout",
     "output_type": "stream",
     "text": [
      "\nInput nodes are equivalent across the population when initialized...\n\n\n- Agent 0\n    Node 0 : {'activation': 'linear', 'type': 'input'}\n    Node 1 : {'activation': 'linear', 'type': 'input'}\n    Node 2 : {'activation': 'linear', 'type': 'input'}\n    Node 3 : {'activation': 'linear', 'type': 'input'}\n    Node 4 : {'activation': 'linear', 'type': 'input'}\n\n- Agent 1\n    Node 0 : {'activation': 'linear', 'type': 'input'}\n    Node 1 : {'activation': 'linear', 'type': 'input'}\n    Node 2 : {'activation': 'linear', 'type': 'input'}\n    Node 3 : {'activation': 'linear', 'type': 'input'}\n    Node 4 : {'activation': 'linear', 'type': 'input'}\n\n- Agent 2\n    Node 0 : {'activation': 'linear', 'type': 'input'}\n    Node 1 : {'activation': 'linear', 'type': 'input'}\n    Node 2 : {'activation': 'linear', 'type': 'input'}\n    Node 3 : {'activation': 'linear', 'type': 'input'}\n    Node 4 : {'activation': 'linear', 'type': 'input'}\n\n- Agent 3\n    Node 0 : {'activation': 'linear', 'type': 'input'}\n    Node 1 : {'activation': 'linear', 'type': 'input'}\n    Node 2 : {'activation': 'linear', 'type': 'input'}\n    Node 3 : {'activation': 'linear', 'type': 'input'}\n    Node 4 : {'activation': 'linear', 'type': 'input'}\n\n- Agent 4\n    Node 0 : {'activation': 'linear', 'type': 'input'}\n    Node 1 : {'activation': 'linear', 'type': 'input'}\n    Node 2 : {'activation': 'linear', 'type': 'input'}\n    Node 3 : {'activation': 'linear', 'type': 'input'}\n    Node 4 : {'activation': 'linear', 'type': 'input'}\n\nWhile output nodes differ in their specific activation functions...\n\n\n- Agent 0\n    Node 5 : {'activation': 'ramp', 'type': 'output'}\n\n- Agent 1\n    Node 5 : {'activation': 'ReLU', 'type': 'output'}\n\n- Agent 2\n    Node 5 : {'activation': 'step', 'type': 'output'}\n\n- Agent 3\n    Node 5 : {'activation': 'x_cubed', 'type': 'output'}\n\n- Agent 4\n    Node 5 : {'activation': 'x_cubed', 'type': 'output'}\n"
     ]
    }
   ],
   "source": [
    "# Input nodes\n",
    "print '\\nInput nodes are equivalent across the population when initialized...\\n'\n",
    "for agent in range(num_agents):\n",
    "    print '\\n- Agent', agent\n",
    "    for node in range(5):\n",
    "        print '    Node', node, ':', pop.genomes[agent].nodes[node]\n",
    "        \n",
    "# Output nodes\n",
    "print '\\nWhile output nodes differ in their specific activation functions...\\n'\n",
    "for agent in range(num_agents):\n",
    "    print '\\n- Agent', agent\n",
    "    print '    Node', 5, ':', pop.genomes[agent].nodes[5]"
   ]
  },
  {
   "cell_type": "markdown",
   "metadata": {},
   "source": [
    "#### The Connection Genome\n",
    "\n",
    "The CPPN also has a *connection genome* that keeps track of the connections between these nodes:"
   ]
  },
  {
   "cell_type": "code",
   "execution_count": 24,
   "metadata": {},
   "outputs": [
    {
     "name": "stdout",
     "output_type": "stream",
     "text": [
      "{0: {'enable_bit': 1, 'in_node': 5, 'weight': 1.3157653667504219, 'out_node': 0}, 1: {'enable_bit': 1, 'in_node': 5, 'weight': -0.1669125280086818, 'out_node': 1}, 2: {'enable_bit': 1, 'in_node': 5, 'weight': -0.3487183711861378, 'out_node': 2}, 3: {'enable_bit': 1, 'in_node': 5, 'weight': -1.5476773857272677, 'out_node': 3}, 4: {'enable_bit': 1, 'in_node': 5, 'weight': 0.31068179560931486, 'out_node': 4}}\n"
     ]
    }
   ],
   "source": [
    "print current_agent.connections"
   ]
  },
  {
   "cell_type": "markdown",
   "metadata": {},
   "source": [
    "\n",
    "\n",
    "Just like any neural network you are accustomed to seeing, a CPPN is composed of an input layer (**Nodes 0-4**) and an output layer (with a single output node, **Node 5**).\n",
    "\n",
    "Each agent begins with 6 total nodes which are fully connected, making 5 initial weights. Although agents in the population are structurally identical (they have the same number of initial nodes in their CPPN), the weights of these connections will not be the same for each agent. Similar to before, each connection has an *innovation number* that identifies it.\n",
    "\n",
    "Let's compare a single connection across the population - **Connection 0**, between **Node 0** and **Node 5** to show this fact:\n"
   ]
  },
  {
   "cell_type": "code",
   "execution_count": 24,
   "metadata": {},
   "outputs": [
    {
     "name": "stdout",
     "output_type": "stream",
     "text": [
      "Connection weights are randomly initialized across the population for the same connection...\n\n\n- Agent 0\n    Connection 0 : {'enable_bit': 1, 'in_node': 5, 'weight': 1.3157653667504219, 'out_node': 0}\n\n- Agent 1\n    Connection 0 : {'enable_bit': 1, 'in_node': 5, 'weight': -1.460571493663236, 'out_node': 0}\n\n- Agent 2\n    Connection 0 : {'enable_bit': 1, 'in_node': 5, 'weight': 0.4822892299948137, 'out_node': 0}\n\n- Agent 3\n    Connection 0 : {'enable_bit': 1, 'in_node': 5, 'weight': 2.042117498128114, 'out_node': 0}\n\n- Agent 4\n    Connection 0 : {'enable_bit': 1, 'in_node': 5, 'weight': -1.2561727328710062, 'out_node': 0}\n"
     ]
    }
   ],
   "source": [
    "print 'Connection weights are randomly initialized across the population for the same connection...\\n'\n",
    "for agent in range(num_agents):\n",
    "    print '\\n- Agent', agent\n",
    "    print '    Connection', 0, ':', pop.genomes[agent].connections[0]"
   ]
  },
  {
   "cell_type": "markdown",
   "metadata": {},
   "source": [
    "We can verify that **Connection 0**, which has the *innovation number* 0 in both the connection genome and in our visualization in **Figure 4.1**, describes a connection between **Node 0** and **Node 5**. These landing points are intuitively labeled within the gene: **Connection 0** goes *out* from **Node 0** ('out_node'), and terminates into **Node 5** ('in_node'). \n",
    "\n",
    "You can go over the connection genome for **Agent 0** and compare it to **Figure 4.1** to verify that the rest of the connections share this convention.\n",
    "\n",
    "\n"
   ]
  },
  {
   "cell_type": "code",
   "execution_count": 28,
   "metadata": {},
   "outputs": [
    {
     "name": "stdout",
     "output_type": "stream",
     "text": [
      "Innovation #: 0 - {'enable_bit': 1, 'in_node': 5, 'weight': 1.3157653667504219, 'out_node': 0}\nInnovation #: 1 - {'enable_bit': 1, 'in_node': 5, 'weight': -0.1669125280086818, 'out_node': 1}\nInnovation #: 2 - {'enable_bit': 1, 'in_node': 5, 'weight': -0.3487183711861378, 'out_node': 2}\nInnovation #: 3 - {'enable_bit': 1, 'in_node': 5, 'weight': -1.5476773857272677, 'out_node': 3}\nInnovation #: 4 - {'enable_bit': 1, 'in_node': 5, 'weight': 0.31068179560931486, 'out_node': 4}\n"
     ]
    }
   ],
   "source": [
    "for connection in current_agent.connections.keys():\n",
    "    print 'Innovation #:', connection, '-', current_agent.connections[connection]"
   ]
  },
  {
   "cell_type": "markdown",
   "metadata": {},
   "source": [
    ""
   ]
  },
  {
   "cell_type": "markdown",
   "metadata": {},
   "source": [
    "Just like before, the connection genome has attributes that define the 'weight' and 'enable_bit' for each connection. \n",
    "\n",
    "The relationship between an agent's neural network and a CPPN should still be relatively unclear at this point, and that's because we're missing an important component that links the two together. \n",
    "\n",
    "What are the inputs to a CPPN? The outputs? \n",
    "\n",
    "A CPPN can act as a mapping by evaluating potential connections in the final phenotype, and the component we are missing in order to accomplish this is something called the substrate: a two-dimensional coordinate space that defines the locations of neurons in the agent's brain. "
   ]
  },
  {
   "cell_type": "markdown",
   "metadata": {},
   "source": [
    "---\n",
    "\n",
    "**Move on to [Part 5: The Substrate](05substrate.ipynb)**"
   ]
  },
  {
   "cell_type": "code",
   "execution_count": null,
   "metadata": {},
   "outputs": [],
   "source": [
    ""
   ]
  },
  {
   "cell_type": "code",
   "execution_count": 25,
   "metadata": {},
   "outputs": [],
   "source": [
    ""
   ]
  }
 ],
 "metadata": {
  "kernelspec": {
   "display_name": "Python 2",
   "language": "python",
   "name": "python2"
  },
  "language_info": {
   "codemirror_mode": {
    "name": "ipython",
    "version": 2.0
   },
   "file_extension": ".py",
   "mimetype": "text/x-python",
   "name": "python",
   "nbconvert_exporter": "python",
   "pygments_lexer": "ipython2",
   "version": "2.7.12"
  }
 },
 "nbformat": 4,
 "nbformat_minor": 0
}