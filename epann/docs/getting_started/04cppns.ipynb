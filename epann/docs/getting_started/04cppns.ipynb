{
 "cells": [
  {
   "cell_type": "markdown",
   "metadata": {},
   "source": [
    "## epann\n",
    "\n",
    "##### Evolutionary Plastic Artificial Neural Networks\n",
    "\n",
    "\n",
    "**Back to [Part 3: Neuroevolution](03neuroevolution.ipynb)**"
   ]
  },
  {
   "cell_type": "markdown",
   "metadata": {},
   "source": [
    "# Compositional Pattern Producing Networks"
   ]
  },
  {
   "cell_type": "markdown",
   "metadata": {
    "collapsed": true
   },
   "source": [
    "### Definition\n",
    "\n",
    "**CPPN**s are an abstraction of inheritance and development constructed from simple artificial neural networks.\n",
    "\n",
    "Their goal is take in a possible connection in a final agent's brain as coordinates within a defined substrate, and output some feature of that connection, such as it's weight and learning parameters.\n",
    "\n",
    "By representing an agent this way, it is not necessary to encode every connection in the final agent phenotype when performing evolutionary computation to find good solutions.\n",
    "\n",
    "Instead, we can indirectly encode agents with much smaller genotypes that describe the simple CPPN genome. An indirect encoding simplifies our representation of a solution, and allows us to search through a larger portion of the space of possible solutions to solve a task."
   ]
  },
  {
   "cell_type": "markdown",
   "metadata": {
    "collapsed": true
   },
   "source": [
    "### Example\n",
    "\n",
    "Let's start with a simple example using the epann package.\n",
    "\n",
    "We will construct a population of 5 agents with very simple genome neural networks (CPPNs) to demonstrate how they are initialized, how their structure is related to the final agent brain, and how they change (mutate and reproduce) over the course of evolution."
   ]
  },
  {
   "cell_type": "code",
   "execution_count": 3,
   "metadata": {},
   "outputs": [
    {
     "name": "stdout",
     "output_type": "stream",
     "text": [
      "Agent 0 - <epann.core.population.genome.cppn.CPPN instance at 0x7f4d58307ab8>\nAgent 1 - <epann.core.population.genome.cppn.CPPN instance at 0x7f4d58307c68>\nAgent 2 - <epann.core.population.genome.cppn.CPPN instance at 0x7f4d58307d88>\nAgent 3 - <epann.core.population.genome.cppn.CPPN instance at 0x7f4d58307ea8>\nAgent 4 - <epann.core.population.genome.cppn.CPPN instance at 0x7f4d58307fc8>\n"
     ]
    }
   ],
   "source": [
    "from epann.core.population.population import Population\n",
    "\n",
    "num_agents = 5\n",
    "\n",
    "pop = Population(num_agents)\n",
    "\n",
    "for agent in pop.genomes.keys():\n",
    "    print 'Agent', agent, '-', pop.genomes[agent]"
   ]
  },
  {
   "cell_type": "markdown",
   "metadata": {
    "collapsed": true
   },
   "source": [
    "\n",
    "\n",
    "As you can see, each agent is defined as an instance of a CPPN object. Within this object are attributes that define its genotype, which can then be used to construct a phenotype for the agent.\n",
    "\n",
    "Let's set aside the first agent (**Agent 0**) and take a look at this genome.\n"
   ]
  },
  {
   "cell_type": "code",
   "execution_count": 4,
   "metadata": {},
   "outputs": [],
   "source": [
    "index = 0\n",
    "current_agent = pop.genomes[index]"
   ]
  },
  {
   "cell_type": "markdown",
   "metadata": {},
   "source": [
    "Most importantly for our discussion, the current agent has two sets of genome lists that will be modified over the course of evolution among its attributes. "
   ]
  },
  {
   "cell_type": "markdown",
   "metadata": {},
   "source": [
    "#### The Node Genome\n",
    "\n",
    "It has a *node genome*:"
   ]
  },
  {
   "cell_type": "code",
   "execution_count": 5,
   "metadata": {},
   "outputs": [
    {
     "name": "stdout",
     "output_type": "stream",
     "text": [
      "{0: {'activation': 'linear', 'type': 'input'}, 1: {'activation': 'linear', 'type': 'input'}, 2: {'activation': 'linear', 'type': 'input'}, 3: {'activation': 'linear', 'type': 'input'}, 4: {'activation': 'linear', 'type': 'input'}, 5: {'activation': 'ReLU', 'type': 'output'}}\n"
     ]
    }
   ],
   "source": [
    "print current_agent.nodes"
   ]
  },
  {
   "cell_type": "markdown",
   "metadata": {},
   "source": [
    "Its *node genome* is a dictionary of genes that describe the characteristics of individual nodes in the CPPN. Each key is a node in the genome, and each nested dictionary is that particular node's attributes.\n",
    "\n",
    "For example, **Node 5** is an output node ('type') with a unique activation function ('activation').\n",
    "\n",
    "(**Note:** it might seem odd that an output node does not have a more traditional activation function, such as the sigmoid. Neurons in CPPNs can have a variety of activation functions that are selected for their ability to introduce repetition or symmetry, which gives rise to the network's pattern producing capabilities. More on this distinction later.)\n",
    "\n",
    "For now, we can at least observe the possible activation functions output nodes can be assigned to:"
   ]
  },
  {
   "cell_type": "code",
   "execution_count": 7,
   "metadata": {},
   "outputs": [
    {
     "name": "stdout",
     "output_type": "stream",
     "text": [
      "['x_cubed', 'linear', 'sigmoid', 'ramp', 'gauss', 'abs_value', 'tan_h', 'step', 'ReLU', 'sine']\n"
     ]
    }
   ],
   "source": [
    "from epann.core.tools.utils.activations import Activation\n",
    "\n",
    "acts = Activation()\n",
    "print acts.tags"
   ]
  },
  {
   "cell_type": "markdown",
   "metadata": {},
   "source": [
    "\n",
    "\n",
    "Nodes within the CPPN (except for the input nodes) can have any of these activation functions. For now, let's set the activation function to something simple. This will become clear why when we get to explaining the substrate, and we will change it back when we're done. Once you feel like you have gotten the hang of the relationship between the substrate and the CPPN genome, you can set the output node activation to any of the strings in the above list and see what the substrates look like (then just select Run All from the Cell pull down menu).\n",
    "\n",
    "Note: some values are not set up to be sampled with more than one input value (i.e. a meshgrid), so just play around with it a bit to see which ones are working properly. (for example, use 'step', not 'ReLU')\n"
   ]
  },
  {
   "cell_type": "code",
   "execution_count": null,
   "metadata": {},
   "outputs": [],
   "source": [
    ""
   ]
  },
  {
   "cell_type": "code",
   "execution_count": null,
   "metadata": {},
   "outputs": [],
   "source": [
    ""
   ]
  },
  {
   "cell_type": "code",
   "execution_count": null,
   "metadata": {},
   "outputs": [],
   "source": [
    ""
   ]
  },
  {
   "cell_type": "markdown",
   "metadata": {},
   "source": [
    "**Move on to [Part 5: HyperNEAT](05hyperneat.ipynb)**"
   ]
  },
  {
   "cell_type": "code",
   "execution_count": null,
   "metadata": {},
   "outputs": [],
   "source": [
    ""
   ]
  }
 ],
 "metadata": {
  "kernelspec": {
   "display_name": "Python 2",
   "language": "python",
   "name": "python2"
  },
  "language_info": {
   "codemirror_mode": {
    "name": "ipython",
    "version": 2.0
   },
   "file_extension": ".py",
   "mimetype": "text/x-python",
   "name": "python",
   "nbconvert_exporter": "python",
   "pygments_lexer": "ipython2",
   "version": "2.7.12"
  }
 },
 "nbformat": 4,
 "nbformat_minor": 0
}