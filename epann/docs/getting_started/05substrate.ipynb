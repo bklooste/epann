{
 "cells": [
  {
   "cell_type": "markdown",
   "metadata": {},
   "source": [
    "# epann\n",
    "\n",
    "Evolutionary Plastic Artificial Neural Networks\n",
    "\n",
    "---\n",
    "\n",
    "**Back to [Part 4: Compositional Pattern Producing Networks](04cppns.ipynb)**\n",
    "\n",
    "---"
   ]
  },
  {
   "cell_type": "markdown",
   "metadata": {},
   "source": [
    "# The Substrate: Mapping Genotype to Phenotype\n",
    "\n",
    "An important starting point when thinking about our CPPN abstraction is that we are going to treat our final agent neural network, the brain that will actually be interacting with the task we are interested in, as something that exists in a two-dimensional coordinate space. As a consequence of constructing this plane, individual nodes within a CPPN can be defined with coordinates on that plane. \n",
    "\n",
    "To begin, let's place the nodes from our minimum agent controller network onto the plane so that we can investigate these properties. \n",
    "\n",
    "#### Figure 5.1 - Agent Controller Nodes on a Substrate\n",
    "\n",
    "![Figure 5.1](figures/substrate.png)\n",
    "\n",
    "From **Figure 5.1** we can immediately notice a few things:\n",
    "\n",
    "1. The substrate coordinate space is continuous between $-1$ and $+1$ in both $x$ and $y$. ( $x,y \\in [-1, 1]$ )\n",
    "2. *Input nodes* can be defined with coordinates that describe their *location* along the bottom edge of this space: $(x_i, -1)$\n",
    "3. *Output nodes* can be defined with coordinates that describe ther *location* along the top edge of this space: $(x_o, +1)$\n",
    "\n",
    "If we assume that within a layer nodes are evenly spaced along the width of the plane, we can initialize their locations as:"
   ]
  },
  {
   "cell_type": "code",
   "execution_count": 4,
   "metadata": {},
   "outputs": [
    {
     "name": "stdout",
     "output_type": "stream",
     "text": [
      "\nInput locations:\n[[-1.0, -1.0], [-0.6, -1.0], [-0.2, -1.0], [0.2, -1.0], [0.6, -1.0], [1.0, -1.0]]\n\nOutput locations:\n[[-1.0, 1.0], [0.0, 1.0], [1.0, 1.0]]\n"
     ]
    }
   ],
   "source": [
    "import numpy as np\n",
    "\n",
    "input_locations = [ [ round(xi, 2), -1.0 ] for xi in np.linspace(-1, 1, 6) ]\n",
    "output_locations = [ [ round(xo, 2), 1.0 ] for xo in np.linspace(-1, 1, 3) ]\n",
    "\n",
    "print '\\nInput locations:\\n', input_locations\n",
    "print '\\nOutput locations:\\n', output_locations"
   ]
  },
  {
   "cell_type": "markdown",
   "metadata": {},
   "source": [
    "The purpose of our CPPN genome is to allow us to more compactly represent an agent's phenotype with an indirect encoding. The way were are able to do this is by treating a genome as a function of a possible connection in the phenotype. More specifically, A CPPN genome samples a possible connection between two nodes, which are represented within a substrate as a pair of coordinates, and uses them as inputs to the CPPN network. In return, we can receive a property of that connection in the phenotype - for example, the weight of that connection. "
   ]
  },
  {
   "cell_type": "code",
   "execution_count": null,
   "metadata": {},
   "outputs": [],
   "source": [
    ""
   ]
  },
  {
   "cell_type": "code",
   "execution_count": null,
   "metadata": {},
   "outputs": [],
   "source": [
    ""
   ]
  },
  {
   "cell_type": "code",
   "execution_count": null,
   "metadata": {},
   "outputs": [],
   "source": [
    ""
   ]
  },
  {
   "cell_type": "code",
   "execution_count": null,
   "metadata": {},
   "outputs": [],
   "source": [
    ""
   ]
  },
  {
   "cell_type": "markdown",
   "metadata": {},
   "source": [
    "---\n",
    "\n",
    "**Move on to [Part 6: HyperNEAT](06hyperneat.ipynb)**"
   ]
  },
  {
   "cell_type": "code",
   "execution_count": null,
   "metadata": {},
   "outputs": [],
   "source": [
    ""
   ]
  },
  {
   "cell_type": "code",
   "execution_count": null,
   "metadata": {},
   "outputs": [],
   "source": [
    ""
   ]
  }
 ],
 "metadata": {},
 "nbformat": 4,
 "nbformat_minor": 0
}